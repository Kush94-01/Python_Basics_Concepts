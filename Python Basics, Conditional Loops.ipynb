{
 "cells": [
  {
   "cell_type": "markdown",
   "id": "91176722",
   "metadata": {},
   "source": [
    "# 1) Write a Program to find all such number wich are divisble by 7 but are not multiple of 5 between 2000 and 3200 both included the number obtained should be printed in a comma separted sequence on a single line\n",
    "\n",
    "\n",
    "# 2) Write a program to accept users first name and last name and then  getting printed in the reverse order with a space between  first name and last name\n",
    "\n",
    "# 3) Write a program to find the volume of a sphere with a diameter of 12 cm\n",
    "\n",
    "## Hint-v= 4/3 pi r*3\n",
    "\n"
   ]
  },
  {
   "cell_type": "code",
   "execution_count": 9,
   "id": "fb3a1e46",
   "metadata": {},
   "outputs": [
    {
     "name": "stdout",
     "output_type": "stream",
     "text": [
      "2002,2009,2016,2023,2037,2044,2051,2058,2072,2079,2086,2093,2107,2114,2121,2128,2142,2149,2156,2163,2177,2184,2191,2198,2212,2219,2226,2233,2247,2254,2261,2268,2282,2289,2296,2303,2317,2324,2331,2338,2352,2359,2366,2373,2387,2394,2401,2408,2422,2429,2436,2443,2457,2464,2471,2478,2492,2499,2506,2513,2527,2534,2541,2548,2562,2569,2576,2583,2597,2604,2611,2618,2632,2639,2646,2653,2667,2674,2681,2688,2702,2709,2716,2723,2737,2744,2751,2758,2772,2779,2786,2793,2807,2814,2821,2828,2842,2849,2856,2863,2877,2884,2891,2898,2912,2919,2926,2933,2947,2954,2961,2968,2982,2989,2996,3003,3017,3024,3031,3038,3052,3059,3066,3073,3087,3094,3101,3108,3122,3129,3136,3143,3157,3164,3171,3178,3192,3199,"
     ]
    }
   ],
   "source": [
    "# 1 Write a Program to find all such number wich are divisble by 7 but are not multiple of 5 between 2000 and 3200 both included\n",
    "# the number obtained should be printed in a comma separted sequence on a single line\n",
    "\n",
    "#Number range between 2000 and 3000(both included)\n",
    "for n in range(2000,3201):\n",
    "     \n",
    "    #Condition if the number is divisible by 7\n",
    "    if n%7==0:\n",
    "        \n",
    "        #Condition if the number is not divisible by 5\n",
    "        if n%5!=0:\n",
    "            \n",
    "            print(n,end=\",\")\n",
    "            \n",
    "    else:\n",
    "        continue"
   ]
  },
  {
   "cell_type": "code",
   "execution_count": 31,
   "id": "6814a038",
   "metadata": {},
   "outputs": [
    {
     "name": "stdout",
     "output_type": "stream",
     "text": [
      "Enter the first_name Sachin\n",
      "Enter the last_name Tendulkar\n",
      "Tendulkar Sachin\n"
     ]
    }
   ],
   "source": [
    "#  2)-a) Write a program to accept users first name and last name and then getting printed in the reverse order\n",
    "# with a space between first name and last name\n",
    "#Printing first the last name and then the first_name\n",
    "\n",
    "first_name = input(\"Enter the first_name \")\n",
    "last_name = input(\"Enter the last_name \")\n",
    "\n",
    "print(last_name + \" \" + first_name)"
   ]
  },
  {
   "cell_type": "code",
   "execution_count": 33,
   "id": "febc3f79",
   "metadata": {},
   "outputs": [
    {
     "name": "stdout",
     "output_type": "stream",
     "text": [
      "Enter the first_name Virat\n",
      "Enter the last_name Kohli\n",
      "ilhoK tariV\n"
     ]
    }
   ],
   "source": [
    "# 2)-b) Write a program to accept users first name and last name and then getting printed in the reverse order\n",
    "# with a space between first name and last name\n",
    "#Reversing the letters of first name and last name  and printing with space\n",
    "\n",
    "\n",
    "\n",
    "first_name = input(\"Enter the first_name \")\n",
    "last_name = input(\"Enter the last_name \")\n",
    "print(last_name[::-1] + \" \" + first_name[::-1]) # Reversing the letters of first name and last name "
   ]
  },
  {
   "cell_type": "code",
   "execution_count": 37,
   "id": "62dba55c",
   "metadata": {},
   "outputs": [
    {
     "name": "stdout",
     "output_type": "stream",
     "text": [
      "Volume of the sphere is 904.3199999999999\n"
     ]
    }
   ],
   "source": [
    "#  3-Write a program to find the volume of a sphere with a diameter of 12 cm\n",
    "# Hint-v= 4/3 pi r*3\n",
    "#using pi=3.14\n",
    "\n",
    "d=12\n",
    "r=d/2\n",
    "v=4/3*(3.14)*(r**3)\n",
    "print(\"Volume of the sphere is {}\".format(v))"
   ]
  },
  {
   "cell_type": "code",
   "execution_count": 38,
   "id": "2e7fd4a0",
   "metadata": {},
   "outputs": [
    {
     "name": "stdout",
     "output_type": "stream",
     "text": [
      "Volume of the sphere is 904.7786842338603\n"
     ]
    }
   ],
   "source": [
    "#  3-Write a program to find the volume of a sphere with a diameter of 12 cm\n",
    "# Hint-v= 4/3 pi r*3\n",
    "#By importing the Math Library\n",
    "\n",
    "import math\n",
    "d=12\n",
    "r=d/2\n",
    "v=4/3*(math.pi)*(r**3)\n",
    "print(\"Volume of the sphere is {}\".format(v))"
   ]
  },
  {
   "cell_type": "code",
   "execution_count": null,
   "id": "62aa758c",
   "metadata": {},
   "outputs": [],
   "source": []
  }
 ],
 "metadata": {
  "kernelspec": {
   "display_name": "Python 3",
   "language": "python",
   "name": "python3"
  },
  "language_info": {
   "codemirror_mode": {
    "name": "ipython",
    "version": 3
   },
   "file_extension": ".py",
   "mimetype": "text/x-python",
   "name": "python",
   "nbconvert_exporter": "python",
   "pygments_lexer": "ipython3",
   "version": "3.8.8"
  }
 },
 "nbformat": 4,
 "nbformat_minor": 5
}
